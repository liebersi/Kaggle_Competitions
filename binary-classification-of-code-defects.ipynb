{
 "cells": [
  {
   "cell_type": "code",
   "execution_count": 1,
   "id": "40bbf12d",
   "metadata": {
    "_cell_guid": "b1076dfc-b9ad-4769-8c92-a6c4dae69d19",
    "_uuid": "8f2839f25d086af736a60e9eeb907d3b93b6e0e5",
    "execution": {
     "iopub.execute_input": "2023-10-18T16:09:10.833355Z",
     "iopub.status.busy": "2023-10-18T16:09:10.832634Z",
     "iopub.status.idle": "2023-10-18T16:09:12.930853Z",
     "shell.execute_reply": "2023-10-18T16:09:12.929709Z"
    },
    "papermill": {
     "duration": 2.113272,
     "end_time": "2023-10-18T16:09:12.933495",
     "exception": false,
     "start_time": "2023-10-18T16:09:10.820223",
     "status": "completed"
    },
    "tags": []
   },
   "outputs": [
    {
     "name": "stdout",
     "output_type": "stream",
     "text": [
      "/kaggle/input/playground-series-s3e23/sample_submission.csv\n",
      "/kaggle/input/playground-series-s3e23/train.csv\n",
      "/kaggle/input/playground-series-s3e23/test.csv\n"
     ]
    }
   ],
   "source": [
    "# This Python 3 environment comes with many helpful analytics libraries installed\n",
    "# It is defined by the kaggle/python Docker image: https://github.com/kaggle/docker-python\n",
    "# For example, here's several helpful packages to load\n",
    "\n",
    "import numpy as np # linear algebra\n",
    "import pandas as pd # data processing, CSV file I/O (e.g. pd.read_csv)\n",
    "from IPython.core.interactiveshell import InteractiveShell\n",
    "InteractiveShell.ast_node_interactivity = \"all\"\n",
    "from IPython.core.debugger import set_trace\n",
    "# Input data files are available in the read-only \"../input/\" directory\n",
    "# For example, running this (by clicking run or pressing Shift+Enter) will list all files under the input directory\n",
    "\n",
    "%matplotlib inline\n",
    "import matplotlib.pyplot as plt\n",
    "from scipy import stats \n",
    "from sklearn.ensemble import RandomForestClassifier\n",
    "from sklearn.preprocessing import StandardScaler, PowerTransformer, RobustScaler\n",
    "\n",
    "\n",
    "import os\n",
    "for dirname, _, filenames in os.walk('/kaggle/input'):\n",
    "    for filename in filenames:\n",
    "        print(os.path.join(dirname, filename))\n",
    "\n",
    "# You can write up to 20GB to the current directory (/kaggle/working/) that gets preserved as output when you create a version using \"Save & Run All\" \n",
    "# You can also write temporary files to /kaggle/temp/, but they won't be saved outside of the current session\n",
    "\n",
    "run_first = False\n",
    "run_all = False\n",
    "run_second = False"
   ]
  },
  {
   "cell_type": "code",
   "execution_count": 2,
   "id": "6e404e41",
   "metadata": {
    "execution": {
     "iopub.execute_input": "2023-10-18T16:09:12.956133Z",
     "iopub.status.busy": "2023-10-18T16:09:12.955121Z",
     "iopub.status.idle": "2023-10-18T16:09:12.960014Z",
     "shell.execute_reply": "2023-10-18T16:09:12.959238Z"
    },
    "papermill": {
     "duration": 0.018048,
     "end_time": "2023-10-18T16:09:12.961934",
     "exception": false,
     "start_time": "2023-10-18T16:09:12.943886",
     "status": "completed"
    },
    "tags": []
   },
   "outputs": [],
   "source": [
    "#Set flags to choose which cells to run\n",
    "run_first = False"
   ]
  },
  {
   "cell_type": "markdown",
   "id": "9532e5db",
   "metadata": {
    "papermill": {
     "duration": 0.009781,
     "end_time": "2023-10-18T16:09:12.982208",
     "exception": false,
     "start_time": "2023-10-18T16:09:12.972427",
     "status": "completed"
    },
    "tags": []
   },
   "source": [
    "Here is the initial plan:\n",
    "1. Basic data exploration:info, descibe, NaN,\n",
    "2. Data visualization\n",
    "3. Clean data and impute using copies and custom functions\n",
    "4. Explore MI\n",
    "5. Explore model types and utilize feature importance and well as various measurements of success.\n",
    "6. Choose best model and features, train, fit, submit\n",
    "    \n",
    "    "
   ]
  },
  {
   "cell_type": "code",
   "execution_count": 3,
   "id": "f0f39014",
   "metadata": {
    "execution": {
     "iopub.execute_input": "2023-10-18T16:09:13.004351Z",
     "iopub.status.busy": "2023-10-18T16:09:13.003351Z",
     "iopub.status.idle": "2023-10-18T16:09:13.735488Z",
     "shell.execute_reply": "2023-10-18T16:09:13.734038Z"
    },
    "papermill": {
     "duration": 0.746181,
     "end_time": "2023-10-18T16:09:13.738326",
     "exception": false,
     "start_time": "2023-10-18T16:09:12.992145",
     "status": "completed"
    },
    "tags": []
   },
   "outputs": [],
   "source": [
    "df = pd.read_csv('/kaggle/input/playground-series-s3e23/train.csv')\n",
    "X_test = pd.read_csv('/kaggle/input/playground-series-s3e23/test.csv')\n",
    "X=df.copy()\n",
    "y = X['defects']"
   ]
  },
  {
   "cell_type": "code",
   "execution_count": 4,
   "id": "9b94de94",
   "metadata": {
    "execution": {
     "iopub.execute_input": "2023-10-18T16:09:13.763970Z",
     "iopub.status.busy": "2023-10-18T16:09:13.763151Z",
     "iopub.status.idle": "2023-10-18T16:09:13.803851Z",
     "shell.execute_reply": "2023-10-18T16:09:13.802871Z"
    },
    "papermill": {
     "duration": 0.058282,
     "end_time": "2023-10-18T16:09:13.806900",
     "exception": false,
     "start_time": "2023-10-18T16:09:13.748618",
     "status": "completed"
    },
    "tags": []
   },
   "outputs": [
    {
     "data": {
      "text/html": [
       "<div>\n",
       "<style scoped>\n",
       "    .dataframe tbody tr th:only-of-type {\n",
       "        vertical-align: middle;\n",
       "    }\n",
       "\n",
       "    .dataframe tbody tr th {\n",
       "        vertical-align: top;\n",
       "    }\n",
       "\n",
       "    .dataframe thead th {\n",
       "        text-align: right;\n",
       "    }\n",
       "</style>\n",
       "<table border=\"1\" class=\"dataframe\">\n",
       "  <thead>\n",
       "    <tr style=\"text-align: right;\">\n",
       "      <th></th>\n",
       "      <th>id</th>\n",
       "      <th>loc</th>\n",
       "      <th>v(g)</th>\n",
       "      <th>ev(g)</th>\n",
       "      <th>iv(g)</th>\n",
       "      <th>n</th>\n",
       "      <th>v</th>\n",
       "      <th>l</th>\n",
       "      <th>d</th>\n",
       "      <th>i</th>\n",
       "      <th>...</th>\n",
       "      <th>lOCode</th>\n",
       "      <th>lOComment</th>\n",
       "      <th>lOBlank</th>\n",
       "      <th>locCodeAndComment</th>\n",
       "      <th>uniq_Op</th>\n",
       "      <th>uniq_Opnd</th>\n",
       "      <th>total_Op</th>\n",
       "      <th>total_Opnd</th>\n",
       "      <th>branchCount</th>\n",
       "      <th>defects</th>\n",
       "    </tr>\n",
       "  </thead>\n",
       "  <tbody>\n",
       "    <tr>\n",
       "      <th>0</th>\n",
       "      <td>0</td>\n",
       "      <td>22.0</td>\n",
       "      <td>3.0</td>\n",
       "      <td>1.0</td>\n",
       "      <td>2.0</td>\n",
       "      <td>60.0</td>\n",
       "      <td>278.63</td>\n",
       "      <td>0.06</td>\n",
       "      <td>19.56</td>\n",
       "      <td>14.25</td>\n",
       "      <td>...</td>\n",
       "      <td>17</td>\n",
       "      <td>1</td>\n",
       "      <td>1</td>\n",
       "      <td>0</td>\n",
       "      <td>16.0</td>\n",
       "      <td>9.0</td>\n",
       "      <td>38.0</td>\n",
       "      <td>22.0</td>\n",
       "      <td>5.0</td>\n",
       "      <td>False</td>\n",
       "    </tr>\n",
       "    <tr>\n",
       "      <th>1</th>\n",
       "      <td>1</td>\n",
       "      <td>14.0</td>\n",
       "      <td>2.0</td>\n",
       "      <td>1.0</td>\n",
       "      <td>2.0</td>\n",
       "      <td>32.0</td>\n",
       "      <td>151.27</td>\n",
       "      <td>0.14</td>\n",
       "      <td>7.00</td>\n",
       "      <td>21.11</td>\n",
       "      <td>...</td>\n",
       "      <td>11</td>\n",
       "      <td>0</td>\n",
       "      <td>1</td>\n",
       "      <td>0</td>\n",
       "      <td>11.0</td>\n",
       "      <td>11.0</td>\n",
       "      <td>18.0</td>\n",
       "      <td>14.0</td>\n",
       "      <td>3.0</td>\n",
       "      <td>False</td>\n",
       "    </tr>\n",
       "    <tr>\n",
       "      <th>2</th>\n",
       "      <td>2</td>\n",
       "      <td>11.0</td>\n",
       "      <td>2.0</td>\n",
       "      <td>1.0</td>\n",
       "      <td>2.0</td>\n",
       "      <td>45.0</td>\n",
       "      <td>197.65</td>\n",
       "      <td>0.11</td>\n",
       "      <td>8.05</td>\n",
       "      <td>22.76</td>\n",
       "      <td>...</td>\n",
       "      <td>8</td>\n",
       "      <td>0</td>\n",
       "      <td>1</td>\n",
       "      <td>0</td>\n",
       "      <td>12.0</td>\n",
       "      <td>11.0</td>\n",
       "      <td>28.0</td>\n",
       "      <td>17.0</td>\n",
       "      <td>3.0</td>\n",
       "      <td>False</td>\n",
       "    </tr>\n",
       "    <tr>\n",
       "      <th>3</th>\n",
       "      <td>3</td>\n",
       "      <td>8.0</td>\n",
       "      <td>1.0</td>\n",
       "      <td>1.0</td>\n",
       "      <td>1.0</td>\n",
       "      <td>23.0</td>\n",
       "      <td>94.01</td>\n",
       "      <td>0.19</td>\n",
       "      <td>5.25</td>\n",
       "      <td>17.86</td>\n",
       "      <td>...</td>\n",
       "      <td>4</td>\n",
       "      <td>0</td>\n",
       "      <td>2</td>\n",
       "      <td>0</td>\n",
       "      <td>8.0</td>\n",
       "      <td>6.0</td>\n",
       "      <td>16.0</td>\n",
       "      <td>7.0</td>\n",
       "      <td>1.0</td>\n",
       "      <td>True</td>\n",
       "    </tr>\n",
       "    <tr>\n",
       "      <th>4</th>\n",
       "      <td>4</td>\n",
       "      <td>11.0</td>\n",
       "      <td>2.0</td>\n",
       "      <td>1.0</td>\n",
       "      <td>2.0</td>\n",
       "      <td>17.0</td>\n",
       "      <td>60.94</td>\n",
       "      <td>0.18</td>\n",
       "      <td>5.63</td>\n",
       "      <td>12.44</td>\n",
       "      <td>...</td>\n",
       "      <td>7</td>\n",
       "      <td>0</td>\n",
       "      <td>2</td>\n",
       "      <td>0</td>\n",
       "      <td>7.0</td>\n",
       "      <td>6.0</td>\n",
       "      <td>10.0</td>\n",
       "      <td>10.0</td>\n",
       "      <td>3.0</td>\n",
       "      <td>False</td>\n",
       "    </tr>\n",
       "  </tbody>\n",
       "</table>\n",
       "<p>5 rows × 23 columns</p>\n",
       "</div>"
      ],
      "text/plain": [
       "   id   loc  v(g)  ev(g)  iv(g)     n       v     l      d      i  ...  \\\n",
       "0   0  22.0   3.0    1.0    2.0  60.0  278.63  0.06  19.56  14.25  ...   \n",
       "1   1  14.0   2.0    1.0    2.0  32.0  151.27  0.14   7.00  21.11  ...   \n",
       "2   2  11.0   2.0    1.0    2.0  45.0  197.65  0.11   8.05  22.76  ...   \n",
       "3   3   8.0   1.0    1.0    1.0  23.0   94.01  0.19   5.25  17.86  ...   \n",
       "4   4  11.0   2.0    1.0    2.0  17.0   60.94  0.18   5.63  12.44  ...   \n",
       "\n",
       "   lOCode  lOComment  lOBlank  locCodeAndComment  uniq_Op  uniq_Opnd  \\\n",
       "0      17          1        1                  0     16.0        9.0   \n",
       "1      11          0        1                  0     11.0       11.0   \n",
       "2       8          0        1                  0     12.0       11.0   \n",
       "3       4          0        2                  0      8.0        6.0   \n",
       "4       7          0        2                  0      7.0        6.0   \n",
       "\n",
       "   total_Op  total_Opnd  branchCount  defects  \n",
       "0      38.0        22.0          5.0    False  \n",
       "1      18.0        14.0          3.0    False  \n",
       "2      28.0        17.0          3.0    False  \n",
       "3      16.0         7.0          1.0     True  \n",
       "4      10.0        10.0          3.0    False  \n",
       "\n",
       "[5 rows x 23 columns]"
      ]
     },
     "execution_count": 4,
     "metadata": {},
     "output_type": "execute_result"
    }
   ],
   "source": [
    "X.head()"
   ]
  },
  {
   "cell_type": "code",
   "execution_count": 5,
   "id": "f3616f2b",
   "metadata": {
    "execution": {
     "iopub.execute_input": "2023-10-18T16:09:13.831403Z",
     "iopub.status.busy": "2023-10-18T16:09:13.831043Z",
     "iopub.status.idle": "2023-10-18T16:09:13.861343Z",
     "shell.execute_reply": "2023-10-18T16:09:13.860225Z"
    },
    "papermill": {
     "duration": 0.045429,
     "end_time": "2023-10-18T16:09:13.864019",
     "exception": false,
     "start_time": "2023-10-18T16:09:13.818590",
     "status": "completed"
    },
    "tags": []
   },
   "outputs": [
    {
     "name": "stdout",
     "output_type": "stream",
     "text": [
      "<class 'pandas.core.frame.DataFrame'>\n",
      "RangeIndex: 101763 entries, 0 to 101762\n",
      "Data columns (total 23 columns):\n",
      " #   Column             Non-Null Count   Dtype  \n",
      "---  ------             --------------   -----  \n",
      " 0   id                 101763 non-null  int64  \n",
      " 1   loc                101763 non-null  float64\n",
      " 2   v(g)               101763 non-null  float64\n",
      " 3   ev(g)              101763 non-null  float64\n",
      " 4   iv(g)              101763 non-null  float64\n",
      " 5   n                  101763 non-null  float64\n",
      " 6   v                  101763 non-null  float64\n",
      " 7   l                  101763 non-null  float64\n",
      " 8   d                  101763 non-null  float64\n",
      " 9   i                  101763 non-null  float64\n",
      " 10  e                  101763 non-null  float64\n",
      " 11  b                  101763 non-null  float64\n",
      " 12  t                  101763 non-null  float64\n",
      " 13  lOCode             101763 non-null  int64  \n",
      " 14  lOComment          101763 non-null  int64  \n",
      " 15  lOBlank            101763 non-null  int64  \n",
      " 16  locCodeAndComment  101763 non-null  int64  \n",
      " 17  uniq_Op            101763 non-null  float64\n",
      " 18  uniq_Opnd          101763 non-null  float64\n",
      " 19  total_Op           101763 non-null  float64\n",
      " 20  total_Opnd         101763 non-null  float64\n",
      " 21  branchCount        101763 non-null  float64\n",
      " 22  defects            101763 non-null  bool   \n",
      "dtypes: bool(1), float64(17), int64(5)\n",
      "memory usage: 17.2 MB\n"
     ]
    }
   ],
   "source": [
    "X.info()"
   ]
  },
  {
   "cell_type": "markdown",
   "id": "9d633e67",
   "metadata": {
    "papermill": {
     "duration": 0.010636,
     "end_time": "2023-10-18T16:09:13.885041",
     "exception": false,
     "start_time": "2023-10-18T16:09:13.874405",
     "status": "completed"
    },
    "tags": []
   },
   "source": [
    "#  Notably, there are no object type variables and no NaN values.  This makes data cleaning easy!!"
   ]
  },
  {
   "cell_type": "code",
   "execution_count": 6,
   "id": "815ddbf8",
   "metadata": {
    "execution": {
     "iopub.execute_input": "2023-10-18T16:09:13.908671Z",
     "iopub.status.busy": "2023-10-18T16:09:13.908069Z",
     "iopub.status.idle": "2023-10-18T16:09:14.075788Z",
     "shell.execute_reply": "2023-10-18T16:09:14.074738Z"
    },
    "papermill": {
     "duration": 0.182343,
     "end_time": "2023-10-18T16:09:14.078214",
     "exception": false,
     "start_time": "2023-10-18T16:09:13.895871",
     "status": "completed"
    },
    "tags": []
   },
   "outputs": [
    {
     "data": {
      "text/html": [
       "<div>\n",
       "<style scoped>\n",
       "    .dataframe tbody tr th:only-of-type {\n",
       "        vertical-align: middle;\n",
       "    }\n",
       "\n",
       "    .dataframe tbody tr th {\n",
       "        vertical-align: top;\n",
       "    }\n",
       "\n",
       "    .dataframe thead th {\n",
       "        text-align: right;\n",
       "    }\n",
       "</style>\n",
       "<table border=\"1\" class=\"dataframe\">\n",
       "  <thead>\n",
       "    <tr style=\"text-align: right;\">\n",
       "      <th></th>\n",
       "      <th>id</th>\n",
       "      <th>loc</th>\n",
       "      <th>v(g)</th>\n",
       "      <th>ev(g)</th>\n",
       "      <th>iv(g)</th>\n",
       "      <th>n</th>\n",
       "      <th>v</th>\n",
       "      <th>l</th>\n",
       "      <th>d</th>\n",
       "      <th>i</th>\n",
       "      <th>...</th>\n",
       "      <th>t</th>\n",
       "      <th>lOCode</th>\n",
       "      <th>lOComment</th>\n",
       "      <th>lOBlank</th>\n",
       "      <th>locCodeAndComment</th>\n",
       "      <th>uniq_Op</th>\n",
       "      <th>uniq_Opnd</th>\n",
       "      <th>total_Op</th>\n",
       "      <th>total_Opnd</th>\n",
       "      <th>branchCount</th>\n",
       "    </tr>\n",
       "  </thead>\n",
       "  <tbody>\n",
       "    <tr>\n",
       "      <th>count</th>\n",
       "      <td>101763.000000</td>\n",
       "      <td>101763.000000</td>\n",
       "      <td>101763.000000</td>\n",
       "      <td>101763.000000</td>\n",
       "      <td>101763.000000</td>\n",
       "      <td>101763.000000</td>\n",
       "      <td>101763.000000</td>\n",
       "      <td>101763.000000</td>\n",
       "      <td>101763.000000</td>\n",
       "      <td>101763.000000</td>\n",
       "      <td>...</td>\n",
       "      <td>101763.000000</td>\n",
       "      <td>101763.000000</td>\n",
       "      <td>101763.000000</td>\n",
       "      <td>101763.000000</td>\n",
       "      <td>101763.000000</td>\n",
       "      <td>101763.000000</td>\n",
       "      <td>101763.000000</td>\n",
       "      <td>101763.000000</td>\n",
       "      <td>101763.000000</td>\n",
       "      <td>101763.000000</td>\n",
       "    </tr>\n",
       "    <tr>\n",
       "      <th>mean</th>\n",
       "      <td>50881.000000</td>\n",
       "      <td>37.347160</td>\n",
       "      <td>5.492684</td>\n",
       "      <td>2.845022</td>\n",
       "      <td>3.498826</td>\n",
       "      <td>96.655995</td>\n",
       "      <td>538.280956</td>\n",
       "      <td>0.111634</td>\n",
       "      <td>13.681881</td>\n",
       "      <td>27.573007</td>\n",
       "      <td>...</td>\n",
       "      <td>1141.357982</td>\n",
       "      <td>22.802453</td>\n",
       "      <td>1.773945</td>\n",
       "      <td>3.979865</td>\n",
       "      <td>0.196604</td>\n",
       "      <td>11.896131</td>\n",
       "      <td>15.596671</td>\n",
       "      <td>57.628116</td>\n",
       "      <td>39.249698</td>\n",
       "      <td>9.839549</td>\n",
       "    </tr>\n",
       "    <tr>\n",
       "      <th>std</th>\n",
       "      <td>29376.592059</td>\n",
       "      <td>54.600401</td>\n",
       "      <td>7.900855</td>\n",
       "      <td>4.631262</td>\n",
       "      <td>5.534541</td>\n",
       "      <td>171.147191</td>\n",
       "      <td>1270.791601</td>\n",
       "      <td>0.100096</td>\n",
       "      <td>14.121306</td>\n",
       "      <td>22.856742</td>\n",
       "      <td>...</td>\n",
       "      <td>9862.795472</td>\n",
       "      <td>38.541010</td>\n",
       "      <td>5.902412</td>\n",
       "      <td>6.382358</td>\n",
       "      <td>0.998906</td>\n",
       "      <td>6.749549</td>\n",
       "      <td>18.064261</td>\n",
       "      <td>104.537660</td>\n",
       "      <td>71.692309</td>\n",
       "      <td>14.412769</td>\n",
       "    </tr>\n",
       "    <tr>\n",
       "      <th>min</th>\n",
       "      <td>0.000000</td>\n",
       "      <td>1.000000</td>\n",
       "      <td>1.000000</td>\n",
       "      <td>1.000000</td>\n",
       "      <td>1.000000</td>\n",
       "      <td>0.000000</td>\n",
       "      <td>0.000000</td>\n",
       "      <td>0.000000</td>\n",
       "      <td>0.000000</td>\n",
       "      <td>0.000000</td>\n",
       "      <td>...</td>\n",
       "      <td>0.000000</td>\n",
       "      <td>0.000000</td>\n",
       "      <td>0.000000</td>\n",
       "      <td>0.000000</td>\n",
       "      <td>0.000000</td>\n",
       "      <td>0.000000</td>\n",
       "      <td>0.000000</td>\n",
       "      <td>0.000000</td>\n",
       "      <td>0.000000</td>\n",
       "      <td>1.000000</td>\n",
       "    </tr>\n",
       "    <tr>\n",
       "      <th>25%</th>\n",
       "      <td>25440.500000</td>\n",
       "      <td>13.000000</td>\n",
       "      <td>2.000000</td>\n",
       "      <td>1.000000</td>\n",
       "      <td>1.000000</td>\n",
       "      <td>25.000000</td>\n",
       "      <td>97.670000</td>\n",
       "      <td>0.050000</td>\n",
       "      <td>5.600000</td>\n",
       "      <td>15.560000</td>\n",
       "      <td>...</td>\n",
       "      <td>31.380000</td>\n",
       "      <td>7.000000</td>\n",
       "      <td>0.000000</td>\n",
       "      <td>1.000000</td>\n",
       "      <td>0.000000</td>\n",
       "      <td>8.000000</td>\n",
       "      <td>7.000000</td>\n",
       "      <td>15.000000</td>\n",
       "      <td>10.000000</td>\n",
       "      <td>3.000000</td>\n",
       "    </tr>\n",
       "    <tr>\n",
       "      <th>50%</th>\n",
       "      <td>50881.000000</td>\n",
       "      <td>22.000000</td>\n",
       "      <td>3.000000</td>\n",
       "      <td>1.000000</td>\n",
       "      <td>2.000000</td>\n",
       "      <td>51.000000</td>\n",
       "      <td>232.790000</td>\n",
       "      <td>0.090000</td>\n",
       "      <td>9.820000</td>\n",
       "      <td>23.360000</td>\n",
       "      <td>...</td>\n",
       "      <td>125.400000</td>\n",
       "      <td>14.000000</td>\n",
       "      <td>0.000000</td>\n",
       "      <td>2.000000</td>\n",
       "      <td>0.000000</td>\n",
       "      <td>11.000000</td>\n",
       "      <td>12.000000</td>\n",
       "      <td>30.000000</td>\n",
       "      <td>20.000000</td>\n",
       "      <td>5.000000</td>\n",
       "    </tr>\n",
       "    <tr>\n",
       "      <th>75%</th>\n",
       "      <td>76321.500000</td>\n",
       "      <td>42.000000</td>\n",
       "      <td>6.000000</td>\n",
       "      <td>3.000000</td>\n",
       "      <td>4.000000</td>\n",
       "      <td>111.000000</td>\n",
       "      <td>560.250000</td>\n",
       "      <td>0.150000</td>\n",
       "      <td>18.000000</td>\n",
       "      <td>34.340000</td>\n",
       "      <td>...</td>\n",
       "      <td>565.920000</td>\n",
       "      <td>26.000000</td>\n",
       "      <td>1.000000</td>\n",
       "      <td>5.000000</td>\n",
       "      <td>0.000000</td>\n",
       "      <td>16.000000</td>\n",
       "      <td>20.000000</td>\n",
       "      <td>66.000000</td>\n",
       "      <td>45.000000</td>\n",
       "      <td>11.000000</td>\n",
       "    </tr>\n",
       "    <tr>\n",
       "      <th>max</th>\n",
       "      <td>101762.000000</td>\n",
       "      <td>3442.000000</td>\n",
       "      <td>404.000000</td>\n",
       "      <td>165.000000</td>\n",
       "      <td>402.000000</td>\n",
       "      <td>8441.000000</td>\n",
       "      <td>80843.080000</td>\n",
       "      <td>1.000000</td>\n",
       "      <td>418.200000</td>\n",
       "      <td>569.780000</td>\n",
       "      <td>...</td>\n",
       "      <td>935923.390000</td>\n",
       "      <td>2824.000000</td>\n",
       "      <td>344.000000</td>\n",
       "      <td>219.000000</td>\n",
       "      <td>43.000000</td>\n",
       "      <td>410.000000</td>\n",
       "      <td>1026.000000</td>\n",
       "      <td>5420.000000</td>\n",
       "      <td>3021.000000</td>\n",
       "      <td>503.000000</td>\n",
       "    </tr>\n",
       "  </tbody>\n",
       "</table>\n",
       "<p>8 rows × 22 columns</p>\n",
       "</div>"
      ],
      "text/plain": [
       "                  id            loc           v(g)          ev(g)  \\\n",
       "count  101763.000000  101763.000000  101763.000000  101763.000000   \n",
       "mean    50881.000000      37.347160       5.492684       2.845022   \n",
       "std     29376.592059      54.600401       7.900855       4.631262   \n",
       "min         0.000000       1.000000       1.000000       1.000000   \n",
       "25%     25440.500000      13.000000       2.000000       1.000000   \n",
       "50%     50881.000000      22.000000       3.000000       1.000000   \n",
       "75%     76321.500000      42.000000       6.000000       3.000000   \n",
       "max    101762.000000    3442.000000     404.000000     165.000000   \n",
       "\n",
       "               iv(g)              n              v              l  \\\n",
       "count  101763.000000  101763.000000  101763.000000  101763.000000   \n",
       "mean        3.498826      96.655995     538.280956       0.111634   \n",
       "std         5.534541     171.147191    1270.791601       0.100096   \n",
       "min         1.000000       0.000000       0.000000       0.000000   \n",
       "25%         1.000000      25.000000      97.670000       0.050000   \n",
       "50%         2.000000      51.000000     232.790000       0.090000   \n",
       "75%         4.000000     111.000000     560.250000       0.150000   \n",
       "max       402.000000    8441.000000   80843.080000       1.000000   \n",
       "\n",
       "                   d              i  ...              t         lOCode  \\\n",
       "count  101763.000000  101763.000000  ...  101763.000000  101763.000000   \n",
       "mean       13.681881      27.573007  ...    1141.357982      22.802453   \n",
       "std        14.121306      22.856742  ...    9862.795472      38.541010   \n",
       "min         0.000000       0.000000  ...       0.000000       0.000000   \n",
       "25%         5.600000      15.560000  ...      31.380000       7.000000   \n",
       "50%         9.820000      23.360000  ...     125.400000      14.000000   \n",
       "75%        18.000000      34.340000  ...     565.920000      26.000000   \n",
       "max       418.200000     569.780000  ...  935923.390000    2824.000000   \n",
       "\n",
       "           lOComment        lOBlank  locCodeAndComment        uniq_Op  \\\n",
       "count  101763.000000  101763.000000      101763.000000  101763.000000   \n",
       "mean        1.773945       3.979865           0.196604      11.896131   \n",
       "std         5.902412       6.382358           0.998906       6.749549   \n",
       "min         0.000000       0.000000           0.000000       0.000000   \n",
       "25%         0.000000       1.000000           0.000000       8.000000   \n",
       "50%         0.000000       2.000000           0.000000      11.000000   \n",
       "75%         1.000000       5.000000           0.000000      16.000000   \n",
       "max       344.000000     219.000000          43.000000     410.000000   \n",
       "\n",
       "           uniq_Opnd       total_Op     total_Opnd    branchCount  \n",
       "count  101763.000000  101763.000000  101763.000000  101763.000000  \n",
       "mean       15.596671      57.628116      39.249698       9.839549  \n",
       "std        18.064261     104.537660      71.692309      14.412769  \n",
       "min         0.000000       0.000000       0.000000       1.000000  \n",
       "25%         7.000000      15.000000      10.000000       3.000000  \n",
       "50%        12.000000      30.000000      20.000000       5.000000  \n",
       "75%        20.000000      66.000000      45.000000      11.000000  \n",
       "max      1026.000000    5420.000000    3021.000000     503.000000  \n",
       "\n",
       "[8 rows x 22 columns]"
      ]
     },
     "execution_count": 6,
     "metadata": {},
     "output_type": "execute_result"
    }
   ],
   "source": [
    "X.describe()"
   ]
  },
  {
   "cell_type": "markdown",
   "id": "5998c1ca",
   "metadata": {
    "papermill": {
     "duration": 0.010792,
     "end_time": "2023-10-18T16:09:14.100537",
     "exception": false,
     "start_time": "2023-10-18T16:09:14.089745",
     "status": "completed"
    },
    "tags": []
   },
   "source": [
    "Let's check for dublicate data"
   ]
  },
  {
   "cell_type": "code",
   "execution_count": 7,
   "id": "7948ee1a",
   "metadata": {
    "execution": {
     "iopub.execute_input": "2023-10-18T16:09:14.125166Z",
     "iopub.status.busy": "2023-10-18T16:09:14.123531Z",
     "iopub.status.idle": "2023-10-18T16:09:14.217410Z",
     "shell.execute_reply": "2023-10-18T16:09:14.216183Z"
    },
    "papermill": {
     "duration": 0.109843,
     "end_time": "2023-10-18T16:09:14.221334",
     "exception": false,
     "start_time": "2023-10-18T16:09:14.111491",
     "status": "completed"
    },
    "tags": []
   },
   "outputs": [
    {
     "data": {
      "text/plain": [
       "0"
      ]
     },
     "execution_count": 7,
     "metadata": {},
     "output_type": "execute_result"
    }
   ],
   "source": [
    "#Check for duplicates\n",
    "X.duplicated().sum()"
   ]
  },
  {
   "cell_type": "markdown",
   "id": "d5c8af6f",
   "metadata": {
    "papermill": {
     "duration": 0.011621,
     "end_time": "2023-10-18T16:09:14.250633",
     "exception": false,
     "start_time": "2023-10-18T16:09:14.239012",
     "status": "completed"
    },
    "tags": []
   },
   "source": [
    " #from https://www.kaggle.com/competitions/playground-series-s3e23/discussion/444627\n",
    " \n",
    "  1. loc             : numeric % McCabe's line count of code\n",
    "  2. v(g)            : numeric % McCabe \"cyclomatic complexity\"\n",
    "  3. ev(g)           : numeric % McCabe \"essential complexity\"\n",
    "  4. iv(g)           : numeric % McCabe \"design complexity\"\n",
    "  5. n               : numeric % Halstead total operators + operands\n",
    "  6. v               : numeric % Halstead \"volume\"\n",
    "  7. l               : numeric % Halstead \"program length\"\n",
    "  8. d               : numeric % Halstead \"difficulty\"\n",
    "  9. i               : numeric % Halstead \"intelligence\"\n",
    " 10. e               : numeric % Halstead \"effort\"\n",
    " 11. b               : numeric % Halstead \n",
    " 12. t               : numeric % Halstead's time estimator\n",
    " 13. lOCode          : numeric % Halstead's line count\n",
    " 14. lOComment       : numeric % Halstead's count of lines of comments\n",
    " 15. lOBlank         : numeric % Halstead's count of blank lines\n",
    " 16. lOCodeAndComment: numeric\n",
    " 17. uniq_Op         : numeric % unique operators\n",
    " 18. uniq_Opnd       : numeric % unique operands\n",
    " 19. total_Op        : numeric % total operators\n",
    " 20. total_Opnd      : numeric % total operands\n",
    " 21: branchCount     : numeric % of the flow graph\n",
    " 22. defects         : {false,true} % module has/has not one or more  reported defects\n",
    " \n",
    " Further research:\n",
    " \n",
    " 2. v(g)            : numeric % McCabe \"cyclomatic complexity\" - has been shown to be correlated with length of code.  Correlating v(g)  with defects on its own has had mixed results. https://en.wikipedia.org/wiki/Cyclomatic_complexity#Correlation_to_number_of_defects\n",
    " And, https://www.scirp.org/journal/paperinformation.aspx?paperid=779: \"from Employing modern regression techniques, we find the linearity of this relationship has been severely underestimated, so much so that CC can be said to have absolutely no explana-tory power of its own.\" \n",
    "\n",
    "\n",
    "3. ev(g)           : numeric % McCabe \"essential complexity\" - a measurement of how structured a program is. The closer to 1, the more strucured the program is.  If code has a high ev(g) value and has a low loc (line count) then it may just be a very simple program. https://www.ibm.com/docs/en/raa/6.1?topic=metrics-essential-complexity\n",
    "\n",
    "4. iv(g)           : numeric % McCabe \"design complexity\" - \n",
    "http://www.mccabe.com/iq_research_metrics.htm\n",
    "Module Design Complexity Metric (iv(G))\n",
    "Module Design Complexity (iv(G)) is the complexity of the design-reduced module and reflects the complexity of the module's calling patterns to its immediate subordinate modules. This metric differentiates between modules which will seriously complicate the design of any program they are part of and modules which simply contain complex computational logic. It is the basis upon which program design and integration complexities (S0 and S1) are calculated."
   ]
  },
  {
   "cell_type": "markdown",
   "id": "c22803e7",
   "metadata": {
    "papermill": {
     "duration": 0.073745,
     "end_time": "2023-10-18T16:09:14.336197",
     "exception": false,
     "start_time": "2023-10-18T16:09:14.262452",
     "status": "completed"
    },
    "tags": []
   },
   "source": [
    "# There are many articles suggesting that line count alone is the best predictor of defects in code.  Lets make a baseline prediction using just 'loc'"
   ]
  },
  {
   "cell_type": "code",
   "execution_count": 8,
   "id": "6fc412cb",
   "metadata": {
    "execution": {
     "iopub.execute_input": "2023-10-18T16:09:14.360308Z",
     "iopub.status.busy": "2023-10-18T16:09:14.359923Z",
     "iopub.status.idle": "2023-10-18T16:09:14.364652Z",
     "shell.execute_reply": "2023-10-18T16:09:14.363764Z"
    },
    "papermill": {
     "duration": 0.018927,
     "end_time": "2023-10-18T16:09:14.366700",
     "exception": false,
     "start_time": "2023-10-18T16:09:14.347773",
     "status": "completed"
    },
    "tags": []
   },
   "outputs": [],
   "source": [
    "if run_first:\n",
    "    X['loc'].hist(bins=50);"
   ]
  },
  {
   "cell_type": "code",
   "execution_count": 9,
   "id": "21c03ce4",
   "metadata": {
    "execution": {
     "iopub.execute_input": "2023-10-18T16:09:14.390654Z",
     "iopub.status.busy": "2023-10-18T16:09:14.390328Z",
     "iopub.status.idle": "2023-10-18T16:09:14.395068Z",
     "shell.execute_reply": "2023-10-18T16:09:14.393694Z"
    },
    "papermill": {
     "duration": 0.01936,
     "end_time": "2023-10-18T16:09:14.397283",
     "exception": false,
     "start_time": "2023-10-18T16:09:14.377923",
     "status": "completed"
    },
    "tags": []
   },
   "outputs": [],
   "source": [
    "if run_first:\n",
    "    #Dist looks exponential.\n",
    "    #Check for neg values\n",
    "    X['loc'].min()"
   ]
  },
  {
   "cell_type": "code",
   "execution_count": 10,
   "id": "b9916a32",
   "metadata": {
    "execution": {
     "iopub.execute_input": "2023-10-18T16:09:14.422665Z",
     "iopub.status.busy": "2023-10-18T16:09:14.421819Z",
     "iopub.status.idle": "2023-10-18T16:09:14.427709Z",
     "shell.execute_reply": "2023-10-18T16:09:14.426914Z"
    },
    "papermill": {
     "duration": 0.021387,
     "end_time": "2023-10-18T16:09:14.430159",
     "exception": false,
     "start_time": "2023-10-18T16:09:14.408772",
     "status": "completed"
    },
    "tags": []
   },
   "outputs": [],
   "source": [
    "if run_first:\n",
    "    #no neg values - try box-cox transform\n",
    "    #For the first submission, just use full train data and fit test, submit.\n",
    "    X_loc_train=X['loc']\n",
    "    y_train = X['defects']\n",
    "    X_loc_train, best_lambda = stats.boxcox(X_loc_train)\n",
    "    X_loc_train = pd.DataFrame(X_loc_train, columns=['loc'])\n",
    "\n",
    "    #Look at transformed dist\n",
    "    X_loc_train['loc'].hist(bins=50);"
   ]
  },
  {
   "cell_type": "code",
   "execution_count": 11,
   "id": "8f0968d4",
   "metadata": {
    "execution": {
     "iopub.execute_input": "2023-10-18T16:09:14.456976Z",
     "iopub.status.busy": "2023-10-18T16:09:14.456559Z",
     "iopub.status.idle": "2023-10-18T16:09:14.461049Z",
     "shell.execute_reply": "2023-10-18T16:09:14.459888Z"
    },
    "papermill": {
     "duration": 0.020395,
     "end_time": "2023-10-18T16:09:14.463708",
     "exception": false,
     "start_time": "2023-10-18T16:09:14.443313",
     "status": "completed"
    },
    "tags": []
   },
   "outputs": [],
   "source": [
    "if run_first:\n",
    "    model= RandomForestClassifier()\n",
    "    model.fit(X_loc_train,y_train)"
   ]
  },
  {
   "cell_type": "code",
   "execution_count": 12,
   "id": "3b8776fd",
   "metadata": {
    "execution": {
     "iopub.execute_input": "2023-10-18T16:09:14.488222Z",
     "iopub.status.busy": "2023-10-18T16:09:14.487801Z",
     "iopub.status.idle": "2023-10-18T16:09:14.493705Z",
     "shell.execute_reply": "2023-10-18T16:09:14.492547Z"
    },
    "papermill": {
     "duration": 0.020589,
     "end_time": "2023-10-18T16:09:14.495861",
     "exception": false,
     "start_time": "2023-10-18T16:09:14.475272",
     "status": "completed"
    },
    "tags": []
   },
   "outputs": [],
   "source": [
    "if run_first:\n",
    "    #fit test data\n",
    "    X_loc_test=X_test['loc']\n",
    "\n",
    "    X_loc_test, best_lambda = stats.boxcox(X_loc_test)\n",
    "    X_loc_test = pd.DataFrame(X_loc_test, columns = ['loc'])\n",
    "    X_loc_test.head()\n",
    "    predictions1 = pd.DataFrame(model.predict(X_loc_test),columns=['defects'])\n",
    "    predictions1['id'] = X_test['id']\n",
    "\n",
    "    predictions1.head()"
   ]
  },
  {
   "cell_type": "code",
   "execution_count": 13,
   "id": "5c43e4e6",
   "metadata": {
    "execution": {
     "iopub.execute_input": "2023-10-18T16:09:14.521517Z",
     "iopub.status.busy": "2023-10-18T16:09:14.520714Z",
     "iopub.status.idle": "2023-10-18T16:09:14.526356Z",
     "shell.execute_reply": "2023-10-18T16:09:14.524904Z"
    },
    "papermill": {
     "duration": 0.021572,
     "end_time": "2023-10-18T16:09:14.529042",
     "exception": false,
     "start_time": "2023-10-18T16:09:14.507470",
     "status": "completed"
    },
    "tags": []
   },
   "outputs": [],
   "source": [
    "if run_first:\n",
    "    #submit to compitition\n",
    "    predictions1.to_csv('submission.csv', index=False)"
   ]
  },
  {
   "cell_type": "code",
   "execution_count": 14,
   "id": "796fde4e",
   "metadata": {
    "execution": {
     "iopub.execute_input": "2023-10-18T16:09:14.553876Z",
     "iopub.status.busy": "2023-10-18T16:09:14.553243Z",
     "iopub.status.idle": "2023-10-18T16:09:20.175376Z",
     "shell.execute_reply": "2023-10-18T16:09:20.174095Z"
    },
    "papermill": {
     "duration": 5.637328,
     "end_time": "2023-10-18T16:09:20.177882",
     "exception": false,
     "start_time": "2023-10-18T16:09:14.540554",
     "status": "completed"
    },
    "tags": []
   },
   "outputs": [
    {
     "data": {
      "image/png": "[encoded data removed]",
      "text/plain": [
       "<Figure size 2000x1500 with 25 Axes>"
      ]
     },
     "metadata": {},
     "output_type": "display_data"
    }
   ],
   "source": [
    "#Look at distribution of all data\n",
    "\n",
    "X.hist(bins=50,figsize=(20,15));\n",
    "    "
   ]
  },
  {
   "cell_type": "markdown",
   "id": "25db3299",
   "metadata": {
    "papermill": {
     "duration": 0.015189,
     "end_time": "2023-10-18T16:09:20.206942",
     "exception": false,
     "start_time": "2023-10-18T16:09:20.191753",
     "status": "completed"
    },
    "tags": []
   },
   "source": [
    "# Much of this data has an exponential dist.  Lets look at some box-cox transforms."
   ]
  },
  {
   "cell_type": "code",
   "execution_count": 15,
   "id": "4ae6366b",
   "metadata": {
    "execution": {
     "iopub.execute_input": "2023-10-18T16:09:20.238502Z",
     "iopub.status.busy": "2023-10-18T16:09:20.237487Z",
     "iopub.status.idle": "2023-10-18T16:09:20.244474Z",
     "shell.execute_reply": "2023-10-18T16:09:20.243664Z"
    },
    "papermill": {
     "duration": 0.024769,
     "end_time": "2023-10-18T16:09:20.246643",
     "exception": false,
     "start_time": "2023-10-18T16:09:20.221874",
     "status": "completed"
    },
    "tags": []
   },
   "outputs": [],
   "source": [
    "if run_all:\n",
    "    #use scipy to automatically find the best lambda value\n",
    "    from scipy import stats \n",
    "    #note: scipy transforms and returns optimal lambda, scikit learn does the same transform but without returning best lambda\n",
    "\n",
    "    X_bc = X.drop('defects',axis=1).copy()\n",
    "    bc_best_lambda=pd.Series()\n",
    "    for col in X_bc.columns:\n",
    "        #check for negative values\n",
    "        if X_bc[col].min()>0:\n",
    "            X_bc[col], bc_best_lambda[col] = stats.boxcox(X_bc[col])\n",
    "        else:\n",
    "            X_bc[col], bc_best_lambda[col] = stats.boxcox(X_bc[col]+1)\n",
    "            print(col,' contains a negative number.  Min value: ', X_bc[col].min(),' Adding 1 to all rows.')\n",
    "    bc_best_lambda\n",
    "    #lets see what the transformed distributions look like\n",
    "    X_bc.hist(bins=50,figsize=(20,15));\n",
    "\n",
    "    #Look at new distributions:"
   ]
  },
  {
   "cell_type": "code",
   "execution_count": null,
   "id": "c39b8fe0",
   "metadata": {
    "papermill": {
     "duration": 0.014104,
     "end_time": "2023-10-18T16:09:20.275025",
     "exception": false,
     "start_time": "2023-10-18T16:09:20.260921",
     "status": "completed"
    },
    "tags": []
   },
   "outputs": [],
   "source": []
  },
  {
   "cell_type": "code",
   "execution_count": 16,
   "id": "5e5df920",
   "metadata": {
    "execution": {
     "iopub.execute_input": "2023-10-18T16:09:20.306149Z",
     "iopub.status.busy": "2023-10-18T16:09:20.305187Z",
     "iopub.status.idle": "2023-10-18T16:09:20.310164Z",
     "shell.execute_reply": "2023-10-18T16:09:20.309262Z"
    },
    "papermill": {
     "duration": 0.02393,
     "end_time": "2023-10-18T16:09:20.313008",
     "exception": false,
     "start_time": "2023-10-18T16:09:20.289078",
     "status": "completed"
    },
    "tags": []
   },
   "outputs": [],
   "source": [
    "#Some of these don't look very gaussian... we can experiment with different transformations\n",
    "# features=['locCodeAndComment','lOComment','ev(g)']\n",
    "\n",
    "# X_ss = X[features]\n",
    "# my_ss = StandardScaler()\n",
    "# X_ss = pd.DataFrame(my_ss.fit_transform(X_ss),columns=features)\n",
    "# #for col in X_ss.columns:\n",
    "# #    X_ss[col] = stats.standard_scalar(X_ss[col])\n",
    "\n",
    "#     #lets see what the transformed distributions look like\n",
    "# X_ss.hist(bins=50,figsize=(20,15));"
   ]
  },
  {
   "cell_type": "code",
   "execution_count": 17,
   "id": "4afaa906",
   "metadata": {
    "execution": {
     "iopub.execute_input": "2023-10-18T16:09:20.342749Z",
     "iopub.status.busy": "2023-10-18T16:09:20.341350Z",
     "iopub.status.idle": "2023-10-18T16:09:20.347250Z",
     "shell.execute_reply": "2023-10-18T16:09:20.346177Z"
    },
    "jupyter": {
     "source_hidden": true
    },
    "papermill": {
     "duration": 0.023147,
     "end_time": "2023-10-18T16:09:20.349731",
     "exception": false,
     "start_time": "2023-10-18T16:09:20.326584",
     "status": "completed"
    },
    "tags": []
   },
   "outputs": [],
   "source": [
    "# fig = plt.figure(figsize=(20,3))\n",
    "# fig.add_subplot(1,5,1)\n",
    "# plt.title('Title : {}'.format('locCodeAndComment'))\n",
    "# X_ss['defects'] = X['defects'].copy()\n",
    "# #X_ss.describe()\n",
    "# X_ss['defects'][X_ss['locCodeAndComment'].between(-.5,0)].value_counts().plot(kind='pie')\n",
    "# fig.add_subplot(1,5,2)\n",
    "# X_ss['defects'][X_ss['locCodeAndComment'].between(0,1)].value_counts().plot(kind='pie')\n",
    "# fig.add_subplot(1,5,3)\n",
    "# X_ss['defects'][X_ss['locCodeAndComment'].between(1,2)].value_counts().plot(kind='pie')\n",
    "# fig.add_subplot(1,5,4)\n",
    "# X_ss['defects'][X_ss['locCodeAndComment'].between(2,3)].value_counts().plot(kind='pie')\n",
    "# fig.add_subplot(1,5,5)\n",
    "# X_ss['defects'][X_ss['locCodeAndComment'].between(3,4)].value_counts().plot(kind='pie');"
   ]
  },
  {
   "cell_type": "code",
   "execution_count": 18,
   "id": "8f98f1c7",
   "metadata": {
    "execution": {
     "iopub.execute_input": "2023-10-18T16:09:20.379962Z",
     "iopub.status.busy": "2023-10-18T16:09:20.379551Z",
     "iopub.status.idle": "2023-10-18T16:09:20.383652Z",
     "shell.execute_reply": "2023-10-18T16:09:20.382903Z"
    },
    "jupyter": {
     "source_hidden": true
    },
    "papermill": {
     "duration": 0.021356,
     "end_time": "2023-10-18T16:09:20.385451",
     "exception": false,
     "start_time": "2023-10-18T16:09:20.364095",
     "status": "completed"
    },
    "tags": []
   },
   "outputs": [],
   "source": [
    "# fig = plt.figure(figsize=(20,3))\n",
    "# fig.add_subplot(1,5,1)\n",
    "# plt.title('Title : {}'.format('locCodeAndComment'))\n",
    "# X_bc['defects'] = X['defects'].copy()\n",
    "# X_bc.describe()\n",
    "# X_bc['defects'][X_bc['locCodeAndComment']==0].value_counts().plot(kind='pie')\n",
    "# fig.add_subplot(1,5,2)\n",
    "# X_bc['defects'][X_bc['locCodeAndComment']>.01].value_counts().plot(kind='pie');\n"
   ]
  },
  {
   "cell_type": "code",
   "execution_count": 19,
   "id": "d31b5f00",
   "metadata": {
    "execution": {
     "iopub.execute_input": "2023-10-18T16:09:20.416214Z",
     "iopub.status.busy": "2023-10-18T16:09:20.415537Z",
     "iopub.status.idle": "2023-10-18T16:09:20.420174Z",
     "shell.execute_reply": "2023-10-18T16:09:20.419004Z"
    },
    "jupyter": {
     "source_hidden": true
    },
    "papermill": {
     "duration": 0.022215,
     "end_time": "2023-10-18T16:09:20.422365",
     "exception": false,
     "start_time": "2023-10-18T16:09:20.400150",
     "status": "completed"
    },
    "tags": []
   },
   "outputs": [],
   "source": [
    "# fig = plt.figure(figsize=(20,3))\n",
    "# fig.add_subplot(1,5,1)\n",
    "# plt.title('Title : {}'.format('locCodeAndComment'))\n",
    "\n",
    "# #X_ss.describe()\n",
    "# X['defects'][X['locCodeAndComment']<=1].value_counts().plot(kind='pie')\n",
    "# fig.add_subplot(1,5,2)\n",
    "# X['defects'][X['locCodeAndComment']>1].value_counts().plot(kind='pie');\n"
   ]
  },
  {
   "cell_type": "code",
   "execution_count": 20,
   "id": "3ec150d1",
   "metadata": {
    "execution": {
     "iopub.execute_input": "2023-10-18T16:09:20.454535Z",
     "iopub.status.busy": "2023-10-18T16:09:20.453752Z",
     "iopub.status.idle": "2023-10-18T16:09:20.458522Z",
     "shell.execute_reply": "2023-10-18T16:09:20.457272Z"
    },
    "papermill": {
     "duration": 0.022717,
     "end_time": "2023-10-18T16:09:20.460785",
     "exception": false,
     "start_time": "2023-10-18T16:09:20.438068",
     "status": "completed"
    },
    "tags": []
   },
   "outputs": [],
   "source": [
    "#Check for data imbalance...\n",
    "#X['defects'].value_counts().plot.bar()"
   ]
  },
  {
   "cell_type": "markdown",
   "id": "0b97fbe4",
   "metadata": {
    "papermill": {
     "duration": 0.014526,
     "end_time": "2023-10-18T16:09:20.488946",
     "exception": false,
     "start_time": "2023-10-18T16:09:20.474420",
     "status": "completed"
    },
    "tags": []
   },
   "source": [
    "True constituts about 25% of data - only mild data imbalance"
   ]
  },
  {
   "cell_type": "code",
   "execution_count": 21,
   "id": "f95e981b",
   "metadata": {
    "execution": {
     "iopub.execute_input": "2023-10-18T16:09:20.520325Z",
     "iopub.status.busy": "2023-10-18T16:09:20.519954Z",
     "iopub.status.idle": "2023-10-18T16:09:20.526071Z",
     "shell.execute_reply": "2023-10-18T16:09:20.525277Z"
    },
    "papermill": {
     "duration": 0.024248,
     "end_time": "2023-10-18T16:09:20.528007",
     "exception": false,
     "start_time": "2023-10-18T16:09:20.503759",
     "status": "completed"
    },
    "tags": []
   },
   "outputs": [],
   "source": [
    "def build_random_forest(X_train,y_train,X_valid, max_depth = 10,n = 100,return_model=True):\n",
    "    model = RandomForestClassifier(random_state=0,max_depth=max_depth,n_estimators=n)\n",
    "    model.fit(X_train,y_train)\n",
    "    predictions = model.predict_proba(X_valid)\n",
    "    if return_model:\n",
    "        return predictions, model\n",
    "    return predictions\n",
    "    \n",
    "def get_model_metrics(y_valid,predictions):\n",
    "#     from sklearn.metrics import accuracy_score\n",
    "#     print('Accuracy Score: ')\n",
    "#     print(accuracy_score(y_valid, predictions))\n",
    "\n",
    "#     ####classification score code from datacamp.com cheatsheet\n",
    "#     from sklearn.metrics import classification_report #Precision, recall, f1-score and support\n",
    "#     print('Clissification score:')\n",
    "#     print(classification_report(y_valid, predictions))\n",
    "\n",
    "#     ####confusion matrix score code from datacamp.com cheatsheet\n",
    "#     from sklearn.metrics import confusion_matrix\n",
    "#     print('Confusion Matrix: ')\n",
    "#     print(confusion_matrix(y_valid,predictions))\n",
    "    \n",
    "    from sklearn.metrics import roc_auc_score\n",
    "    print('ROC AUC: ')\n",
    "    print(roc_auc_score(y_valid,predictions))\n"
   ]
  },
  {
   "cell_type": "code",
   "execution_count": 22,
   "id": "6561aafe",
   "metadata": {
    "execution": {
     "iopub.execute_input": "2023-10-18T16:09:20.556957Z",
     "iopub.status.busy": "2023-10-18T16:09:20.556297Z",
     "iopub.status.idle": "2023-10-18T16:09:20.561578Z",
     "shell.execute_reply": "2023-10-18T16:09:20.560772Z"
    },
    "papermill": {
     "duration": 0.022275,
     "end_time": "2023-10-18T16:09:20.563725",
     "exception": false,
     "start_time": "2023-10-18T16:09:20.541450",
     "status": "completed"
    },
    "tags": []
   },
   "outputs": [],
   "source": [
    "def get_random_forest_FI(model,feature_names):\n",
    "    #plot and return feature importance for random forest model\n",
    "    importances = model.feature_importances_\n",
    "    my_importances = pd.Series(importances, index=feature_names).sort_values(ascending=False)\n",
    "    \n",
    "    fig, ax = plt.subplots()\n",
    "    my_importances.plot.bar( ax=ax)\n",
    "    ax.set_title(\"Feature importances using MDI\")\n",
    "    ax.set_ylabel(\"Mean decrease in impurity\")\n",
    "    fig.tight_layout()\n",
    "    \n",
    "    return my_importances"
   ]
  },
  {
   "cell_type": "code",
   "execution_count": 23,
   "id": "57bb3e23",
   "metadata": {
    "execution": {
     "iopub.execute_input": "2023-10-18T16:09:20.595062Z",
     "iopub.status.busy": "2023-10-18T16:09:20.594688Z",
     "iopub.status.idle": "2023-10-18T16:09:20.600557Z",
     "shell.execute_reply": "2023-10-18T16:09:20.598977Z"
    },
    "papermill": {
     "duration": 0.024761,
     "end_time": "2023-10-18T16:09:20.603117",
     "exception": false,
     "start_time": "2023-10-18T16:09:20.578356",
     "status": "completed"
    },
    "tags": []
   },
   "outputs": [],
   "source": [
    "#mutual information - \n",
    "def get_mutual_information(X,y):\n",
    "    from sklearn.feature_selection import mutual_info_classif as MIC\n",
    "    mi_score = MIC(X,y,random_state=0)\n",
    "    mi_score = pd.Series(mi_score,index=X.columns)\n",
    "    mi_score =mi_score.sort_values(ascending=False)\n",
    "    return mi_score"
   ]
  },
  {
   "cell_type": "code",
   "execution_count": 24,
   "id": "9e7c3374",
   "metadata": {
    "execution": {
     "iopub.execute_input": "2023-10-18T16:09:20.633584Z",
     "iopub.status.busy": "2023-10-18T16:09:20.632658Z",
     "iopub.status.idle": "2023-10-18T16:09:20.713920Z",
     "shell.execute_reply": "2023-10-18T16:09:20.713026Z"
    },
    "papermill": {
     "duration": 0.099245,
     "end_time": "2023-10-18T16:09:20.716098",
     "exception": false,
     "start_time": "2023-10-18T16:09:20.616853",
     "status": "completed"
    },
    "tags": []
   },
   "outputs": [],
   "source": [
    "#split the data into training and validation\n",
    "from sklearn.model_selection import train_test_split\n",
    "\n",
    "X_=X.drop('defects',axis=1)\n",
    "# stratify - make sure classes are evenlly represented across splits\n",
    "X_train, X_valid, y_train, y_valid = train_test_split(X_, y, stratify=y, train_size=0.8, random_state=0)\n"
   ]
  },
  {
   "cell_type": "code",
   "execution_count": 25,
   "id": "5b57bdeb",
   "metadata": {
    "execution": {
     "iopub.execute_input": "2023-10-18T16:09:20.746521Z",
     "iopub.status.busy": "2023-10-18T16:09:20.745958Z",
     "iopub.status.idle": "2023-10-18T16:09:30.259411Z",
     "shell.execute_reply": "2023-10-18T16:09:30.258194Z"
    },
    "papermill": {
     "duration": 9.532113,
     "end_time": "2023-10-18T16:09:30.261865",
     "exception": false,
     "start_time": "2023-10-18T16:09:20.729752",
     "status": "completed"
    },
    "tags": []
   },
   "outputs": [
    {
     "name": "stdout",
     "output_type": "stream",
     "text": [
      "MI scores pre-bc transform\n"
     ]
    },
    {
     "data": {
      "text/plain": [
       "loc                  0.100754\n",
       "lOCode               0.088030\n",
       "t                    0.087391\n",
       "total_Op             0.086619\n",
       "v                    0.086362\n",
       "e                    0.085485\n",
       "b                    0.084841\n",
       "total_Opnd           0.084428\n",
       "n                    0.083529\n",
       "uniq_Opnd            0.082664\n",
       "i                    0.077302\n",
       "d                    0.076531\n",
       "uniq_Op              0.072870\n",
       "v(g)                 0.072463\n",
       "branchCount          0.069515\n",
       "l                    0.068555\n",
       "iv(g)                0.067832\n",
       "lOBlank              0.058133\n",
       "ev(g)                0.037633\n",
       "lOComment            0.027122\n",
       "locCodeAndComment    0.010218\n",
       "id                   0.002492\n",
       "dtype: float64"
      ]
     },
     "execution_count": 25,
     "metadata": {},
     "output_type": "execute_result"
    }
   ],
   "source": [
    "if True:\n",
    "    #Lets take a gander at the Mutual information\n",
    "    mi_scores = get_mutual_information(X_train,y_train)\n",
    "    print('MI scores pre-bc transform')\n",
    "    mi_scores"
   ]
  },
  {
   "cell_type": "code",
   "execution_count": 26,
   "id": "b0447229",
   "metadata": {
    "execution": {
     "iopub.execute_input": "2023-10-18T16:09:30.291069Z",
     "iopub.status.busy": "2023-10-18T16:09:30.290662Z",
     "iopub.status.idle": "2023-10-18T16:09:31.517102Z",
     "shell.execute_reply": "2023-10-18T16:09:31.515915Z"
    },
    "papermill": {
     "duration": 1.243628,
     "end_time": "2023-10-18T16:09:31.519303",
     "exception": false,
     "start_time": "2023-10-18T16:09:30.275675",
     "status": "completed"
    },
    "tags": []
   },
   "outputs": [
    {
     "data": {
      "image/png": "[encoded data removed]",
      "text/plain": [
       "<Figure size 640x480 with 2 Axes>"
      ]
     },
     "metadata": {},
     "output_type": "display_data"
    }
   ],
   "source": [
    "import seaborn as sns\n",
    "sns.heatmap(X_train.corr())\n",
    "plt.show();\n"
   ]
  },
  {
   "cell_type": "markdown",
   "id": "68c580ed",
   "metadata": {
    "papermill": {
     "duration": 0.014178,
     "end_time": "2023-10-18T16:09:31.548039",
     "exception": false,
     "start_time": "2023-10-18T16:09:31.533861",
     "status": "completed"
    },
    "tags": []
   },
   "source": [
    "# Let's try out a random forest model with different types of normalization"
   ]
  },
  {
   "cell_type": "code",
   "execution_count": 27,
   "id": "3dfd1dc6",
   "metadata": {
    "execution": {
     "iopub.execute_input": "2023-10-18T16:09:31.578460Z",
     "iopub.status.busy": "2023-10-18T16:09:31.578045Z",
     "iopub.status.idle": "2023-10-18T16:09:31.583272Z",
     "shell.execute_reply": "2023-10-18T16:09:31.582119Z"
    },
    "papermill": {
     "duration": 0.022972,
     "end_time": "2023-10-18T16:09:31.585407",
     "exception": false,
     "start_time": "2023-10-18T16:09:31.562435",
     "status": "completed"
    },
    "tags": []
   },
   "outputs": [],
   "source": [
    "#first try no normalization\n",
    "#if run_all:\n",
    "if False:\n",
    "    predictions, model = build_random_forest(X_train,y_train,X_valid)\n",
    "    get_model_metrics(y_valid,predictions[:,1])\n"
   ]
  },
  {
   "cell_type": "code",
   "execution_count": 28,
   "id": "bb2ef398",
   "metadata": {
    "execution": {
     "iopub.execute_input": "2023-10-18T16:09:31.616242Z",
     "iopub.status.busy": "2023-10-18T16:09:31.615873Z",
     "iopub.status.idle": "2023-10-18T16:09:31.626026Z",
     "shell.execute_reply": "2023-10-18T16:09:31.624895Z"
    },
    "papermill": {
     "duration": 0.028394,
     "end_time": "2023-10-18T16:09:31.628203",
     "exception": false,
     "start_time": "2023-10-18T16:09:31.599809",
     "status": "completed"
    },
    "tags": []
   },
   "outputs": [],
   "source": [
    "#Try some feature selection to remove heavily correlated features\n",
    "X_train_uncorr = X_train.drop(['v','n','total_Opnd','b','total_Op','branchCount'],axis=1)\n",
    "\n",
    "X_valid_uncorr = X_valid.drop(['v','n','total_Opnd','b','total_Op','branchCount'],axis=1)\n"
   ]
  },
  {
   "cell_type": "code",
   "execution_count": 29,
   "id": "f7f890bd",
   "metadata": {
    "execution": {
     "iopub.execute_input": "2023-10-18T16:09:31.660302Z",
     "iopub.status.busy": "2023-10-18T16:09:31.659946Z",
     "iopub.status.idle": "2023-10-18T16:09:31.666908Z",
     "shell.execute_reply": "2023-10-18T16:09:31.665780Z"
    },
    "papermill": {
     "duration": 0.024876,
     "end_time": "2023-10-18T16:09:31.668912",
     "exception": false,
     "start_time": "2023-10-18T16:09:31.644036",
     "status": "completed"
    },
    "tags": []
   },
   "outputs": [],
   "source": [
    "#Go ahead and drop heavily correlated and unused cloumns from dataset\n",
    "#drop id column\n",
    "drop_corr_columns = False\n",
    "if drop_corr_columns:\n",
    "    X_train.drop('id',axis=1,inplace=True)\n",
    "    X_valid.drop('id',axis=1,inplace=True)\n",
    "    test_ids = X_test['id']\n",
    "    X_test.drop('id',axis=1,inplace=True)\n",
    "    #drop heavily correlated columns\n",
    "    X_train.drop(['v','n','total_Opnd','b','total_Op','branchCount','d','i','uniq_Op','v(g)','l','iv(g)','lOBlank','lOComment','locCodeAndComment'],axis=1,inplace=True)\n",
    "    X_valid.drop(['v','n','total_Opnd','b','total_Op','branchCount','d','i','uniq_Op','v(g)','l','iv(g)','lOBlank','lOComment','locCodeAndComment'],axis=1,inplace=True)\n",
    "    X_test.drop(['v','n','total_Opnd','b','total_Op','branchCount','d','i','uniq_Op','v(g)','l','iv(g)','lOBlank','lOComment','locCodeAndComment'],axis=1,inplace=True)\n"
   ]
  },
  {
   "cell_type": "code",
   "execution_count": 30,
   "id": "7abdf511",
   "metadata": {
    "execution": {
     "iopub.execute_input": "2023-10-18T16:09:31.700041Z",
     "iopub.status.busy": "2023-10-18T16:09:31.699652Z",
     "iopub.status.idle": "2023-10-18T16:09:31.704463Z",
     "shell.execute_reply": "2023-10-18T16:09:31.703390Z"
    },
    "papermill": {
     "duration": 0.022854,
     "end_time": "2023-10-18T16:09:31.706722",
     "exception": false,
     "start_time": "2023-10-18T16:09:31.683868",
     "status": "completed"
    },
    "tags": []
   },
   "outputs": [],
   "source": [
    "#run RandomForest on uncorr\n",
    "if False:\n",
    "    predictions, model = build_random_forest(X_train_uncorr,y_train,X_valid_uncorr,n=100)\n",
    "    get_model_metrics(y_valid,predictions[:,1])\n"
   ]
  },
  {
   "cell_type": "code",
   "execution_count": 31,
   "id": "f5a4cbbd",
   "metadata": {
    "execution": {
     "iopub.execute_input": "2023-10-18T16:09:31.739328Z",
     "iopub.status.busy": "2023-10-18T16:09:31.738950Z",
     "iopub.status.idle": "2023-10-18T16:09:31.743890Z",
     "shell.execute_reply": "2023-10-18T16:09:31.742607Z"
    },
    "papermill": {
     "duration": 0.023267,
     "end_time": "2023-10-18T16:09:31.745994",
     "exception": false,
     "start_time": "2023-10-18T16:09:31.722727",
     "status": "completed"
    },
    "tags": []
   },
   "outputs": [],
   "source": [
    "#Check out feature importance\n",
    "if run_all:\n",
    "#if True:\n",
    "    feature_names = X_train.columns\n",
    "    fi = get_random_forest_FI(model,feature_names)\n",
    "    fi"
   ]
  },
  {
   "cell_type": "code",
   "execution_count": 32,
   "id": "913b54a3",
   "metadata": {
    "execution": {
     "iopub.execute_input": "2023-10-18T16:09:31.780976Z",
     "iopub.status.busy": "2023-10-18T16:09:31.780584Z",
     "iopub.status.idle": "2023-10-18T16:09:33.771335Z",
     "shell.execute_reply": "2023-10-18T16:09:33.770356Z"
    },
    "papermill": {
     "duration": 2.011197,
     "end_time": "2023-10-18T16:09:33.773619",
     "exception": false,
     "start_time": "2023-10-18T16:09:31.762422",
     "status": "completed"
    },
    "tags": []
   },
   "outputs": [],
   "source": [
    "#df_list = [[X_train,X_valid],[X_train_ss,X_valid_ss],[X_train_yj,X_valid_yj]]\n",
    "#Try StandardScalar\n",
    "if True:\n",
    "    my_ss = StandardScaler()\n",
    "    X_train_ss = pd.DataFrame(my_ss.fit_transform(X_train),columns=X_train.columns)\n",
    "    X_valid_ss = pd.DataFrame(my_ss.transform(X_valid),columns=X_valid.columns)\n",
    "    #df_list.append([X_train_ss,X_valid_ss])\n",
    "\n",
    "#try yao-johnson\n",
    "if True:\n",
    "    yj = PowerTransformer(method = 'yeo-johnson')\n",
    "    X_train_yj = pd.DataFrame(yj.fit_transform(X_train),columns=X_train.columns)\n",
    "    X_valid_yj = pd.DataFrame(yj.transform(X_valid),columns=X_valid.columns)\n",
    "    #df_list.append([X_train_yj,X_valid_yj])\n",
    "    \n"
   ]
  },
  {
   "cell_type": "code",
   "execution_count": 33,
   "id": "a31f91f0",
   "metadata": {
    "execution": {
     "iopub.execute_input": "2023-10-18T16:09:33.805071Z",
     "iopub.status.busy": "2023-10-18T16:09:33.804672Z",
     "iopub.status.idle": "2023-10-18T16:09:33.810662Z",
     "shell.execute_reply": "2023-10-18T16:09:33.809820Z"
    },
    "papermill": {
     "duration": 0.023993,
     "end_time": "2023-10-18T16:09:33.812678",
     "exception": false,
     "start_time": "2023-10-18T16:09:33.788685",
     "status": "completed"
    },
    "tags": []
   },
   "outputs": [],
   "source": [
    "#Try XGBoost model\n",
    "\n",
    "if False:\n",
    "    import xgboost as xgb\n",
    "    from sklearn.model_selection import GridSearchCV\n",
    "    from sklearn.feature_selection import SequentialFeatureSelector\n",
    "\n",
    "    selector = SequentialFeatureSelector(estimator=xgb.XGBClassifier(),n_features_to_select=5,cv=10,)\n",
    "    selector.fit(X_train,y_train)\n",
    "    sfs_features = X_train.columns[selector.get_support()]\n",
    "    \n",
    "    sfs_features"
   ]
  },
  {
   "cell_type": "code",
   "execution_count": 34,
   "id": "6e54df84",
   "metadata": {
    "execution": {
     "iopub.execute_input": "2023-10-18T16:09:33.844441Z",
     "iopub.status.busy": "2023-10-18T16:09:33.844065Z",
     "iopub.status.idle": "2023-10-18T16:09:33.850901Z",
     "shell.execute_reply": "2023-10-18T16:09:33.849916Z"
    },
    "papermill": {
     "duration": 0.024679,
     "end_time": "2023-10-18T16:09:33.852712",
     "exception": false,
     "start_time": "2023-10-18T16:09:33.828033",
     "status": "completed"
    },
    "tags": []
   },
   "outputs": [],
   "source": [
    "if False:\n",
    "    import xgboost as xgb\n",
    "    from sklearn.model_selection import GridSearchCV\n",
    "    \n",
    "    parameter_grid = {\n",
    "        \"max_depth\": [3, 4, 5, 7],\n",
    "        \"learning_rate\": [0.1, 0.01, 0.05],\n",
    "        \"gamma\": [0, 0.25, 1],\n",
    "        \"reg_lambda\": [0, 1, 10],\n",
    "        \"subsample\": [0.8],\n",
    "        \"colsample_bytree\": [0.5],\n",
    "    }\n",
    "    X_train_sfs=X_train[sfs_features]\n",
    "    X_valid_sfs=X_valid[sfs_features]\n",
    "    model = xgb.XGBClassifier()\n",
    "    #my_scorer=make_scorer(score_func=f1_score(y_valid,preds,average='macro'),greater_is_better=True)\n",
    "    grid_cv = GridSearchCV(model, parameter_grid, n_jobs=-1, cv=3, scoring='roc_auc')\n",
    "    grid_cv.fit(X_train_sfs, y_train)\n",
    "\n",
    "    preds = grid_cv.predict_proba(X_valid_sfs)\n",
    "    #preds\n",
    "    get_model_metrics(y_valid,preds[:,1])"
   ]
  },
  {
   "cell_type": "code",
   "execution_count": 35,
   "id": "b3c90f6f",
   "metadata": {
    "execution": {
     "iopub.execute_input": "2023-10-18T16:09:33.883098Z",
     "iopub.status.busy": "2023-10-18T16:09:33.882724Z",
     "iopub.status.idle": "2023-10-18T16:09:33.887710Z",
     "shell.execute_reply": "2023-10-18T16:09:33.886640Z"
    },
    "papermill": {
     "duration": 0.023156,
     "end_time": "2023-10-18T16:09:33.890274",
     "exception": false,
     "start_time": "2023-10-18T16:09:33.867118",
     "status": "completed"
    },
    "tags": []
   },
   "outputs": [
    {
     "name": "stdout",
     "output_type": "stream",
     "text": [
      "XGB without normalization - ROC AUC: 0.7943867684029804\n",
      "XGB with StadardScalar - ROC AUC: ROC AUC: 0.793979220373559\n",
      "XGB with Yao-Johnson - ROC AUC: ROC AUC: 0.7942179730175288\n",
      "XGB without normalization WITH sfs feature selection- ROC AUC: 0.7886524699133519\n"
     ]
    }
   ],
   "source": [
    "print('XGB without normalization - ROC AUC: 0.7943867684029804')\n",
    "print('XGB with StadardScalar - ROC AUC: ROC AUC: 0.793979220373559')\n",
    "print('XGB with Yao-Johnson - ROC AUC: ROC AUC: 0.7942179730175288')\n",
    "\n",
    "print('XGB without normalization WITH sfs feature selection- ROC AUC: 0.7886524699133519')\n",
    "#ROC AUC: 0.7886524699133519"
   ]
  },
  {
   "cell_type": "code",
   "execution_count": 36,
   "id": "70119257",
   "metadata": {
    "execution": {
     "iopub.execute_input": "2023-10-18T16:09:33.922276Z",
     "iopub.status.busy": "2023-10-18T16:09:33.921488Z",
     "iopub.status.idle": "2023-10-18T16:09:33.926908Z",
     "shell.execute_reply": "2023-10-18T16:09:33.925905Z"
    },
    "papermill": {
     "duration": 0.024155,
     "end_time": "2023-10-18T16:09:33.928943",
     "exception": false,
     "start_time": "2023-10-18T16:09:33.904788",
     "status": "completed"
    },
    "tags": []
   },
   "outputs": [],
   "source": [
    "if False:\n",
    "    #Try SVM\n",
    "    from sklearn import svm\n",
    "    \n",
    "    model = svm.SVC(random_state=0,probability=True)\n",
    "    model.fit(X_train,y_train)\n",
    "    preds = model.predict_proba(X_valid)\n",
    "    get_model_metrics(y_valid,preds[:,1])\n",
    "    "
   ]
  },
  {
   "cell_type": "code",
   "execution_count": 37,
   "id": "3b3bf4e4",
   "metadata": {
    "execution": {
     "iopub.execute_input": "2023-10-18T16:09:33.960386Z",
     "iopub.status.busy": "2023-10-18T16:09:33.960048Z",
     "iopub.status.idle": "2023-10-18T16:09:33.965417Z",
     "shell.execute_reply": "2023-10-18T16:09:33.964291Z"
    },
    "papermill": {
     "duration": 0.023486,
     "end_time": "2023-10-18T16:09:33.967680",
     "exception": false,
     "start_time": "2023-10-18T16:09:33.944194",
     "status": "completed"
    },
    "tags": []
   },
   "outputs": [],
   "source": [
    " if False: \n",
    "    #Try KNN classifier\n",
    "    from sklearn import neighbors\n",
    "    \n",
    "    model = neighbors.KNeighborsClassifier(n_neighbors=5)\n",
    "    model.fit(X_train,y_train)\n",
    "    preds = model.predict_proba(X_valid)\n",
    "    get_model_metrics(y_valid,preds[:,1])"
   ]
  },
  {
   "cell_type": "code",
   "execution_count": 38,
   "id": "c7539c4a",
   "metadata": {
    "execution": {
     "iopub.execute_input": "2023-10-18T16:09:33.999446Z",
     "iopub.status.busy": "2023-10-18T16:09:33.999096Z",
     "iopub.status.idle": "2023-10-18T16:09:34.003254Z",
     "shell.execute_reply": "2023-10-18T16:09:34.002106Z"
    },
    "papermill": {
     "duration": 0.022433,
     "end_time": "2023-10-18T16:09:34.005425",
     "exception": false,
     "start_time": "2023-10-18T16:09:33.982992",
     "status": "completed"
    },
    "tags": []
   },
   "outputs": [],
   "source": [
    "#KNN unaltered ROC AUC: 0.7169568296436428\n",
    "#KNN StandardScalar ROC AUC: 0.7240801849697736\n",
    "#KNN YJ ROC AUC: 0.7274034611868397"
   ]
  },
  {
   "cell_type": "code",
   "execution_count": 39,
   "id": "99ac00d5",
   "metadata": {
    "execution": {
     "iopub.execute_input": "2023-10-18T16:09:34.037709Z",
     "iopub.status.busy": "2023-10-18T16:09:34.037311Z",
     "iopub.status.idle": "2023-10-18T16:09:34.044124Z",
     "shell.execute_reply": "2023-10-18T16:09:34.042646Z"
    },
    "papermill": {
     "duration": 0.026998,
     "end_time": "2023-10-18T16:09:34.047500",
     "exception": false,
     "start_time": "2023-10-18T16:09:34.020502",
     "status": "completed"
    },
    "tags": []
   },
   "outputs": [],
   "source": [
    "if False:\n",
    "    #feature selector with logistic regression\n",
    "    from sklearn.feature_selection import SequentialFeatureSelector\n",
    "    from sklearn.linear_model import LogisticRegression\n",
    "    selector = SequentialFeatureSelector(estimator=LogisticRegression(solver = 'saga',max_iter=1000),cv=10,n_features_to_select='auto')\n",
    "    selector.fit(X_train_yj,y_train)\n",
    "    sfs_features = X_train_yj.columns[selector.get_support()]\n",
    "\n",
    "    sfs_features"
   ]
  },
  {
   "cell_type": "code",
   "execution_count": 40,
   "id": "f7c5ae1a",
   "metadata": {
    "execution": {
     "iopub.execute_input": "2023-10-18T16:09:34.078775Z",
     "iopub.status.busy": "2023-10-18T16:09:34.078384Z",
     "iopub.status.idle": "2023-10-18T16:09:34.082479Z",
     "shell.execute_reply": "2023-10-18T16:09:34.081237Z"
    },
    "papermill": {
     "duration": 0.02224,
     "end_time": "2023-10-18T16:09:34.084676",
     "exception": false,
     "start_time": "2023-10-18T16:09:34.062436",
     "status": "completed"
    },
    "tags": []
   },
   "outputs": [],
   "source": [
    "#feature selection before correlation removal - Index(['id', 'loc', 'v(g)', 'iv(g)', 'd', 'b', 't', 'lOCode', 'uniq_Op','branchCount'],dtype='object')\n",
    "#feature selection after correlation removal - Index(['loc', 't', 'uniq_Opnd'], dtype='object')\n"
   ]
  },
  {
   "cell_type": "code",
   "execution_count": 41,
   "id": "14a17b6c",
   "metadata": {
    "execution": {
     "iopub.execute_input": "2023-10-18T16:09:34.119555Z",
     "iopub.status.busy": "2023-10-18T16:09:34.119220Z",
     "iopub.status.idle": "2023-10-18T16:09:34.126326Z",
     "shell.execute_reply": "2023-10-18T16:09:34.125505Z"
    },
    "papermill": {
     "duration": 0.028858,
     "end_time": "2023-10-18T16:09:34.128209",
     "exception": false,
     "start_time": "2023-10-18T16:09:34.099351",
     "status": "completed"
    },
    "tags": []
   },
   "outputs": [],
   "source": [
    "#Try baseline linear regression classifier\n",
    "if False:\n",
    "    from sklearn.linear_model import LogisticRegressionCV\n",
    "    from sklearn.preprocessing import MinMaxScaler\n",
    "    from sklearn.model_selection import GridSearchCV\n",
    "    features = ['id', 'loc', 'v(g)', 'iv(g)', 'd', 'b', 't', 'lOCode', 'uniq_Op','branchCount']\n",
    "    my_mms = MinMaxScaler()\n",
    "    X_train_mms = pd.DataFrame(my_mms.fit_transform(X_train_yj),columns=X_train.columns)\n",
    "    X_valid_mms = pd.DataFrame(my_mms.transform(X_valid_yj),columns=X_train.columns)\n",
    "    grid_values = {'penalty': ['l1', 'l2'], 'Cs': [ 1, 10, 100]}\n",
    "    model = LogisticRegressionCV(cv=10,random_state=0,solver='saga',max_iter=1000,n_jobs=-1)\n",
    "\n",
    "    grid_cv = GridSearchCV(model, grid_values, cv=10, scoring='roc_auc')\n",
    "    grid_cv.fit(X_train_mms, y_train)\n",
    "\n",
    "    print(grid_cv.best_score_)\n",
    "    print(grid_cv.best_params_)\n",
    "    \n",
    "    preds = grid_cv.predict_proba(X_valid_mms)\n",
    "\n",
    "    get_model_metrics(y_valid,preds[:,1])\n"
   ]
  },
  {
   "cell_type": "code",
   "execution_count": 42,
   "id": "dc0db1bf",
   "metadata": {
    "execution": {
     "iopub.execute_input": "2023-10-18T16:09:34.159309Z",
     "iopub.status.busy": "2023-10-18T16:09:34.158895Z",
     "iopub.status.idle": "2023-10-18T16:09:34.163174Z",
     "shell.execute_reply": "2023-10-18T16:09:34.162204Z"
    },
    "papermill": {
     "duration": 0.022499,
     "end_time": "2023-10-18T16:09:34.165277",
     "exception": false,
     "start_time": "2023-10-18T16:09:34.142778",
     "status": "completed"
    },
    "tags": []
   },
   "outputs": [],
   "source": [
    "#basic logistic regression - ROC AUC: 0.7891510815107078\n",
    "#grid search LR - sasa, max 1000: 0.7853039124372712 {'Cs': 10, 'penalty': 'l2'} ROC AUC: 0.7891588629559411\n",
    "#grid search LR - sasa, max 1000 - SFS with correlated columns removed:  0.7817819026575771 {'Cs': 100, 'penalty': 'l2'} ROC AUC: 0.7852472819342937 , remaining columns: Index(['loc', 't', 'uniq_Opnd'], dtype='object')\n",
    "#grid search LR - sasa, max 1000 - correlated columns removed, no SFS: 0.7821435350448381{'Cs': 100, 'penalty': 'l2'}ROC AUC: 0.78562141106662\n",
    "#grid search LR - sasa, max=1000 - SFS only - 0.7831385395304798 {'Cs': 10, 'penalty': 'l2'} ROC AUC: 0.7866078986214033"
   ]
  },
  {
   "cell_type": "code",
   "execution_count": 43,
   "id": "66d20a8b",
   "metadata": {
    "execution": {
     "iopub.execute_input": "2023-10-18T16:09:34.196525Z",
     "iopub.status.busy": "2023-10-18T16:09:34.196130Z",
     "iopub.status.idle": "2023-10-18T16:15:16.052459Z",
     "shell.execute_reply": "2023-10-18T16:15:16.051146Z"
    },
    "papermill": {
     "duration": 341.898064,
     "end_time": "2023-10-18T16:15:16.078104",
     "exception": false,
     "start_time": "2023-10-18T16:09:34.180040",
     "status": "completed"
    },
    "tags": []
   },
   "outputs": [
    {
     "data": {
      "text/html": [
       "<style>#sk-container-id-1 {color: black;background-color: white;}#sk-container-id-1 pre{padding: 0;}#sk-container-id-1 div.sk-toggleable {background-color: white;}#sk-container-id-1 label.sk-toggleable__label {cursor: pointer;display: block;width: 100%;margin-bottom: 0;padding: 0.3em;box-sizing: border-box;text-align: center;}#sk-container-id-1 label.sk-toggleable__label-arrow:before {content: \"▸\";float: left;margin-right: 0.25em;color: #696969;}#sk-container-id-1 label.sk-toggleable__label-arrow:hover:before {color: black;}#sk-container-id-1 div.sk-estimator:hover label.sk-toggleable__label-arrow:before {color: black;}#sk-container-id-1 div.sk-toggleable__content {max-height: 0;max-width: 0;overflow: hidden;text-align: left;background-color: #f0f8ff;}#sk-container-id-1 div.sk-toggleable__content pre {margin: 0.2em;color: black;border-radius: 0.25em;background-color: #f0f8ff;}#sk-container-id-1 input.sk-toggleable__control:checked~div.sk-toggleable__content {max-height: 200px;max-width: 100%;overflow: auto;}#sk-container-id-1 input.sk-toggleable__control:checked~label.sk-toggleable__label-arrow:before {content: \"▾\";}#sk-container-id-1 div.sk-estimator input.sk-toggleable__control:checked~label.sk-toggleable__label {background-color: #d4ebff;}#sk-container-id-1 div.sk-label input.sk-toggleable__control:checked~label.sk-toggleable__label {background-color: #d4ebff;}#sk-container-id-1 input.sk-hidden--visually {border: 0;clip: rect(1px 1px 1px 1px);clip: rect(1px, 1px, 1px, 1px);height: 1px;margin: -1px;overflow: hidden;padding: 0;position: absolute;width: 1px;}#sk-container-id-1 div.sk-estimator {font-family: monospace;background-color: #f0f8ff;border: 1px dotted black;border-radius: 0.25em;box-sizing: border-box;margin-bottom: 0.5em;}#sk-container-id-1 div.sk-estimator:hover {background-color: #d4ebff;}#sk-container-id-1 div.sk-parallel-item::after {content: \"\";width: 100%;border-bottom: 1px solid gray;flex-grow: 1;}#sk-container-id-1 div.sk-label:hover label.sk-toggleable__label {background-color: #d4ebff;}#sk-container-id-1 div.sk-serial::before {content: \"\";position: absolute;border-left: 1px solid gray;box-sizing: border-box;top: 0;bottom: 0;left: 50%;z-index: 0;}#sk-container-id-1 div.sk-serial {display: flex;flex-direction: column;align-items: center;background-color: white;padding-right: 0.2em;padding-left: 0.2em;position: relative;}#sk-container-id-1 div.sk-item {position: relative;z-index: 1;}#sk-container-id-1 div.sk-parallel {display: flex;align-items: stretch;justify-content: center;background-color: white;position: relative;}#sk-container-id-1 div.sk-item::before, #sk-container-id-1 div.sk-parallel-item::before {content: \"\";position: absolute;border-left: 1px solid gray;box-sizing: border-box;top: 0;bottom: 0;left: 50%;z-index: -1;}#sk-container-id-1 div.sk-parallel-item {display: flex;flex-direction: column;z-index: 1;position: relative;background-color: white;}#sk-container-id-1 div.sk-parallel-item:first-child::after {align-self: flex-end;width: 50%;}#sk-container-id-1 div.sk-parallel-item:last-child::after {align-self: flex-start;width: 50%;}#sk-container-id-1 div.sk-parallel-item:only-child::after {width: 0;}#sk-container-id-1 div.sk-dashed-wrapped {border: 1px dashed gray;margin: 0 0.4em 0.5em 0.4em;box-sizing: border-box;padding-bottom: 0.4em;background-color: white;}#sk-container-id-1 div.sk-label label {font-family: monospace;font-weight: bold;display: inline-block;line-height: 1.2em;}#sk-container-id-1 div.sk-label-container {text-align: center;}#sk-container-id-1 div.sk-container {/* jupyter's `normalize.less` sets `[hidden] { display: none; }` but bootstrap.min.css set `[hidden] { display: none !important; }` so we also need the `!important` here to be able to override the default hidden behavior on the sphinx rendered scikit-learn.org. See: https://github.com/scikit-learn/scikit-learn/issues/21755 */display: inline-block !important;position: relative;}#sk-container-id-1 div.sk-text-repr-fallback {display: none;}</style><div id=\"sk-container-id-1\" class=\"sk-top-container\"><div class=\"sk-text-repr-fallback\"><pre>GridSearchCV(cv=10,\n",
       "             estimator=LogisticRegression(max_iter=1000, n_jobs=-1,\n",
       "                                          random_state=0, solver=&#x27;saga&#x27;),\n",
       "             param_grid={&#x27;l1_ratio&#x27;: [0.1, 0.2, 0.3, 0.4, 0.5, 0.6, 0.7, 0.8,\n",
       "                                      0.9],\n",
       "                         &#x27;penalty&#x27;: [&#x27;elasticnet&#x27;]},\n",
       "             scoring=&#x27;roc_auc&#x27;)</pre><b>In a Jupyter environment, please rerun this cell to show the HTML representation or trust the notebook. <br />On GitHub, the HTML representation is unable to render, please try loading this page with nbviewer.org.</b></div><div class=\"sk-container\" hidden><div class=\"sk-item sk-dashed-wrapped\"><div class=\"sk-label-container\"><div class=\"sk-label sk-toggleable\"><input class=\"sk-toggleable__control sk-hidden--visually\" id=\"sk-estimator-id-1\" type=\"checkbox\" ><label for=\"sk-estimator-id-1\" class=\"sk-toggleable__label sk-toggleable__label-arrow\">GridSearchCV</label><div class=\"sk-toggleable__content\"><pre>GridSearchCV(cv=10,\n",
       "             estimator=LogisticRegression(max_iter=1000, n_jobs=-1,\n",
       "                                          random_state=0, solver=&#x27;saga&#x27;),\n",
       "             param_grid={&#x27;l1_ratio&#x27;: [0.1, 0.2, 0.3, 0.4, 0.5, 0.6, 0.7, 0.8,\n",
       "                                      0.9],\n",
       "                         &#x27;penalty&#x27;: [&#x27;elasticnet&#x27;]},\n",
       "             scoring=&#x27;roc_auc&#x27;)</pre></div></div></div><div class=\"sk-parallel\"><div class=\"sk-parallel-item\"><div class=\"sk-item\"><div class=\"sk-label-container\"><div class=\"sk-label sk-toggleable\"><input class=\"sk-toggleable__control sk-hidden--visually\" id=\"sk-estimator-id-2\" type=\"checkbox\" ><label for=\"sk-estimator-id-2\" class=\"sk-toggleable__label sk-toggleable__label-arrow\">estimator: LogisticRegression</label><div class=\"sk-toggleable__content\"><pre>LogisticRegression(max_iter=1000, n_jobs=-1, random_state=0, solver=&#x27;saga&#x27;)</pre></div></div></div><div class=\"sk-serial\"><div class=\"sk-item\"><div class=\"sk-estimator sk-toggleable\"><input class=\"sk-toggleable__control sk-hidden--visually\" id=\"sk-estimator-id-3\" type=\"checkbox\" ><label for=\"sk-estimator-id-3\" class=\"sk-toggleable__label sk-toggleable__label-arrow\">LogisticRegression</label><div class=\"sk-toggleable__content\"><pre>LogisticRegression(max_iter=1000, n_jobs=-1, random_state=0, solver=&#x27;saga&#x27;)</pre></div></div></div></div></div></div></div></div></div></div>"
      ],
      "text/plain": [
       "GridSearchCV(cv=10,\n",
       "             estimator=LogisticRegression(max_iter=1000, n_jobs=-1,\n",
       "                                          random_state=0, solver='saga'),\n",
       "             param_grid={'l1_ratio': [0.1, 0.2, 0.3, 0.4, 0.5, 0.6, 0.7, 0.8,\n",
       "                                      0.9],\n",
       "                         'penalty': ['elasticnet']},\n",
       "             scoring='roc_auc')"
      ]
     },
     "execution_count": 43,
     "metadata": {},
     "output_type": "execute_result"
    },
    {
     "name": "stdout",
     "output_type": "stream",
     "text": [
      "0.7853213619713336\n",
      "{'l1_ratio': 0.9, 'penalty': 'elasticnet'}\n",
      "ROC AUC: \n",
      "0.7888000488096317\n"
     ]
    }
   ],
   "source": [
    "#Try elastic net regressor\n",
    "\n",
    "if True: \n",
    "    from sklearn.linear_model import LogisticRegression\n",
    "    from sklearn.preprocessing import MinMaxScaler\n",
    "    from sklearn.model_selection import GridSearchCV\n",
    "    \n",
    "    my_mms = MinMaxScaler()\n",
    "    X_train_mms = pd.DataFrame(my_mms.fit_transform(X_train_yj),columns=X_train.columns)\n",
    "    X_valid_mms = pd.DataFrame(my_mms.transform(X_valid_yj),columns=X_train.columns)\n",
    "    grid_values = {'penalty': ['elasticnet'], 'l1_ratio':[0.1 ,0.2,0.3,0.4,0.5,0.6,0.7,0.8, 0.9]}\n",
    "    model = LogisticRegression(random_state=0,solver='saga',max_iter=1000,n_jobs=-1)\n",
    "\n",
    "    grid_cv = GridSearchCV(model, grid_values, cv=10,scoring='roc_auc')\n",
    "    grid_cv.fit(X_train_mms, y_train)\n",
    "    #model.fit(X_train_mms, y_train)\n",
    "\n",
    "    print(grid_cv.best_score_)\n",
    "    print(grid_cv.best_params_)\n",
    "    \n",
    "    preds = grid_cv.predict_proba(X_valid_mms)\n",
    "\n",
    "    get_model_metrics(y_valid,preds[:,1])\n"
   ]
  },
  {
   "cell_type": "code",
   "execution_count": 44,
   "id": "2e7d62c2",
   "metadata": {
    "execution": {
     "iopub.execute_input": "2023-10-18T16:15:16.140675Z",
     "iopub.status.busy": "2023-10-18T16:15:16.140007Z",
     "iopub.status.idle": "2023-10-18T16:15:16.145973Z",
     "shell.execute_reply": "2023-10-18T16:15:16.144782Z"
    },
    "papermill": {
     "duration": 0.044199,
     "end_time": "2023-10-18T16:15:16.151261",
     "exception": false,
     "start_time": "2023-10-18T16:15:16.107062",
     "status": "completed"
    },
    "tags": []
   },
   "outputs": [],
   "source": [
    "#LogisticRegressionCV(cv=10, l1_ratios=[0.1, 0.5, 0.9], max_iter=1000, n_jobs=-1,\n",
    "#                     penalty='elasticnet', random_state=0, scoring='roc_auc',solver='saga')\n",
    "#ROC AUC: 0.788867891994091\n",
    "\n",
    "#LogisticRegression(), not CV - 0.7853213619713336 {'l1_ratio': 0.9, 'penalty': 'elasticnet'} ROC AUC: 0.7888000488096317\n"
   ]
  },
  {
   "cell_type": "code",
   "execution_count": 45,
   "id": "6a71c8d4",
   "metadata": {
    "execution": {
     "iopub.execute_input": "2023-10-18T16:15:16.185876Z",
     "iopub.status.busy": "2023-10-18T16:15:16.185442Z",
     "iopub.status.idle": "2023-10-18T16:15:16.191816Z",
     "shell.execute_reply": "2023-10-18T16:15:16.190750Z"
    },
    "papermill": {
     "duration": 0.026203,
     "end_time": "2023-10-18T16:15:16.195004",
     "exception": false,
     "start_time": "2023-10-18T16:15:16.168801",
     "status": "completed"
    },
    "tags": []
   },
   "outputs": [],
   "source": [
    "#Prep random forest submission\n",
    "\n",
    "run_second = False\n",
    "if run_second:\n",
    "    #recombine test and validation, train model and predict test\n",
    "    X_full = pd.concat([X_train,X_valid],axis=0)\n",
    "    y_full = pd.concat([y_train,y_valid],axis=0)\n",
    "    #drop heaviy correlated columns\n",
    "    \n",
    "    #predictions = build_random_forest(X_full,y_full,X_test,return_model=False)\n",
    "    \n",
    "    prediction_df = pd.DataFrame(predictions[:,1],columns = ['defects'])\n",
    "    prediction_df['id'] = test_ids\n",
    "    prediction_df.head()\n",
    "    prediction_df.to_csv('submission.csv', index=False)\n"
   ]
  },
  {
   "cell_type": "code",
   "execution_count": 46,
   "id": "2997bf33",
   "metadata": {
    "execution": {
     "iopub.execute_input": "2023-10-18T16:15:16.230983Z",
     "iopub.status.busy": "2023-10-18T16:15:16.230207Z",
     "iopub.status.idle": "2023-10-18T16:15:16.237197Z",
     "shell.execute_reply": "2023-10-18T16:15:16.236288Z"
    },
    "papermill": {
     "duration": 0.028384,
     "end_time": "2023-10-18T16:15:16.239466",
     "exception": false,
     "start_time": "2023-10-18T16:15:16.211082",
     "status": "completed"
    },
    "tags": []
   },
   "outputs": [],
   "source": [
    "run_third=False\n",
    "if run_third:\n",
    "    import xgboost as xgb\n",
    "    from sklearn.model_selection import GridSearchCV\n",
    "\n",
    "    #recombine test and validation, train model and predict test\n",
    "    X_full = pd.concat([X_train,X_valid],axis=0)\n",
    "    y_full = pd.concat([y_train,y_valid],axis=0)\n",
    "    \n",
    "    parameter_grid = {\n",
    "        \"max_depth\": [3, 4, 5, 7],\n",
    "        \"learning_rate\": [0.1, 0.01, 0.05],\n",
    "        \"gamma\": [0, 0.25, 1],\n",
    "        \"reg_lambda\": [0, 1, 10],\n",
    "        \"subsample\": [0.8],\n",
    "        \"colsample_bytree\": [0.5],\n",
    "    }\n",
    "\n",
    "    model = xgb.XGBClassifier()\n",
    "    grid_cv = GridSearchCV(model, parameter_grid, n_jobs=-1, cv=3, scoring='roc_auc')\n",
    "    grid_cv.fit(X_full, y_full)\n",
    "\n",
    "    predictions = grid_cv.predict_proba(X_test)\n",
    "    prediction_df = pd.DataFrame(predictions[:,1],columns = ['defects'])\n",
    "    prediction_df['id'] = test_ids\n",
    "    prediction_df.head()\n",
    "    prediction_df.to_csv('submission.csv', index=False)"
   ]
  },
  {
   "cell_type": "code",
   "execution_count": 47,
   "id": "5066e8e3",
   "metadata": {
    "execution": {
     "iopub.execute_input": "2023-10-18T16:15:16.274922Z",
     "iopub.status.busy": "2023-10-18T16:15:16.274187Z",
     "iopub.status.idle": "2023-10-18T16:15:16.278550Z",
     "shell.execute_reply": "2023-10-18T16:15:16.277544Z"
    },
    "papermill": {
     "duration": 0.025255,
     "end_time": "2023-10-18T16:15:16.280580",
     "exception": false,
     "start_time": "2023-10-18T16:15:16.255325",
     "status": "completed"
    },
    "tags": []
   },
   "outputs": [],
   "source": [
    "#use model.predict_proba to return probabilities, then use ROC AUC to give a score at different thresholds for validation."
   ]
  }
 ],
 "metadata": {
  "kernelspec": {
   "display_name": "Python 3",
   "language": "python",
   "name": "python3"
  },
  "language_info": {
   "codemirror_mode": {
    "name": "ipython",
    "version": 3
   },
   "file_extension": ".py",
   "mimetype": "text/x-python",
   "name": "python",
   "nbconvert_exporter": "python",
   "pygments_lexer": "ipython3",
   "version": "3.10.12"
  },
  "papermill": {
   "default_parameters": {},
   "duration": 369.459569,
   "end_time": "2023-10-18T16:15:17.018565",
   "environment_variables": {},
   "exception": null,
   "input_path": "__notebook__.ipynb",
   "output_path": "__notebook__.ipynb",
   "parameters": {},
   "start_time": "2023-10-18T16:09:07.558996",
   "version": "2.4.0"
  }
 },
 "nbformat": 4,
 "nbformat_minor": 5
}
